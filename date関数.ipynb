{
  "nbformat": 4,
  "nbformat_minor": 0,
  "metadata": {
    "colab": {
      "provenance": [],
      "authorship_tag": "ABX9TyOt6y5gvzD1eskO02TR/nQR",
      "include_colab_link": true
    },
    "kernelspec": {
      "name": "python3",
      "display_name": "Python 3"
    },
    "language_info": {
      "name": "python"
    }
  },
  "cells": [
    {
      "cell_type": "markdown",
      "metadata": {
        "id": "view-in-github",
        "colab_type": "text"
      },
      "source": [
        "<a href=\"https://colab.research.google.com/github/takenorclife/takenorclife/blob/main/date%E9%96%A2%E6%95%B0.ipynb\" target=\"_parent\"><img src=\"https://colab.research.google.com/assets/colab-badge.svg\" alt=\"Open In Colab\"/></a>"
      ]
    },
    {
      "cell_type": "code",
      "execution_count": null,
      "metadata": {
        "id": "-4-_byw6hmDw",
        "collapsed": true
      },
      "outputs": [],
      "source": [
        "#dateの計算　3か月毎の日付を算出\n",
        "import datetime\n",
        "from dateutil.relativedelta import relativedelta\n",
        "\n",
        "a = datetime.datetime(2024, 10, 19)\n",
        "a_list = []\n",
        "for i in range(1,  41):\n",
        "  b = a +relativedelta(months=+3)\n",
        "  a_list.append(b)\n",
        "  a = b\n",
        "  #print(datetime.datetime.strftime(b, '%Y-%m-%d'))\n",
        "c = 4000000\n",
        "cc = c/10/4\n",
        "c_list = []\n",
        "for i in range(1, 41):\n",
        "  d = c - cc\n",
        "  c_list.append(d)\n",
        "  c = d\n",
        "  #print(int(d))\n",
        "\n"
      ]
    },
    {
      "cell_type": "code",
      "source": [
        "# 竣工日、借入金、借入期間から返済開始日、返済日、返済額、金利支払い、残金を算出する\n",
        "import datetime\n",
        "from dateutil.relativedelta import relativedelta\n",
        "\n",
        "a = '2024-10-20' #竣工日入力\n",
        "c = 1000000 #借入金入力\n",
        "pyear = 10  #借入期間入力\n",
        "e = 0.015 #金利入力\n",
        "\n",
        "aa = datetime.datetime.strptime(a, '%Y-%m-%d')\n",
        "cc = float(c)/float(pyear)/4   #返済額\n",
        "nn = int(pyear)*4\n",
        "\n",
        "a_list = []\n",
        "c_list = []\n",
        "e_list = []\n",
        "p_list = []\n",
        "\n",
        "for i in range(1,nn+1):\n",
        "  p_list.append(i)\n",
        "  b = aa +relativedelta(months=+3)\n",
        "  a_list.append(b)\n",
        "  aa = b\n",
        "  d = int(c) - cc\n",
        "  c_list.append(d)\n",
        "  f = int(c) * float(e)\n",
        "  e_list.append(f)\n",
        "  c = d\n",
        "  print(i, datetime.datetime.strftime(b, '%Y-%m-%d'), int(cc), int(f),int(cc+f), int(d), )\n"
      ],
      "metadata": {
        "colab": {
          "base_uri": "https://localhost:8080/"
        },
        "collapsed": true,
        "id": "gBuW5nSx0hmn",
        "outputId": "60600c6f-b916-4875-df08-7489beca2c7e"
      },
      "execution_count": null,
      "outputs": [
        {
          "output_type": "stream",
          "name": "stdout",
          "text": [
            "1 2025-01-20 25000 15000 40000 975000\n",
            "2 2025-04-20 25000 14625 39625 950000\n",
            "3 2025-07-20 25000 14250 39250 925000\n",
            "4 2025-10-20 25000 13875 38875 900000\n",
            "5 2026-01-20 25000 13500 38500 875000\n",
            "6 2026-04-20 25000 13125 38125 850000\n",
            "7 2026-07-20 25000 12750 37750 825000\n",
            "8 2026-10-20 25000 12375 37375 800000\n",
            "9 2027-01-20 25000 12000 37000 775000\n",
            "10 2027-04-20 25000 11625 36625 750000\n",
            "11 2027-07-20 25000 11250 36250 725000\n",
            "12 2027-10-20 25000 10875 35875 700000\n",
            "13 2028-01-20 25000 10500 35500 675000\n",
            "14 2028-04-20 25000 10125 35125 650000\n",
            "15 2028-07-20 25000 9750 34750 625000\n",
            "16 2028-10-20 25000 9375 34375 600000\n",
            "17 2029-01-20 25000 9000 34000 575000\n",
            "18 2029-04-20 25000 8625 33625 550000\n",
            "19 2029-07-20 25000 8250 33250 525000\n",
            "20 2029-10-20 25000 7875 32875 500000\n",
            "21 2030-01-20 25000 7500 32500 475000\n",
            "22 2030-04-20 25000 7125 32125 450000\n",
            "23 2030-07-20 25000 6750 31750 425000\n",
            "24 2030-10-20 25000 6375 31375 400000\n",
            "25 2031-01-20 25000 6000 31000 375000\n",
            "26 2031-04-20 25000 5625 30625 350000\n",
            "27 2031-07-20 25000 5250 30250 325000\n",
            "28 2031-10-20 25000 4875 29875 300000\n",
            "29 2032-01-20 25000 4500 29500 275000\n",
            "30 2032-04-20 25000 4125 29125 250000\n",
            "31 2032-07-20 25000 3750 28750 225000\n",
            "32 2032-10-20 25000 3375 28375 200000\n",
            "33 2033-01-20 25000 3000 28000 175000\n",
            "34 2033-04-20 25000 2625 27625 150000\n",
            "35 2033-07-20 25000 2250 27250 125000\n",
            "36 2033-10-20 25000 1875 26875 100000\n",
            "37 2034-01-20 25000 1500 26500 75000\n",
            "38 2034-04-20 25000 1125 26125 50000\n",
            "39 2034-07-20 25000 750 25750 25000\n",
            "40 2034-10-20 25000 375 25375 0\n"
          ]
        }
      ]
    },
    {
      "cell_type": "code",
      "source": [
        "#複数のlistを配列（array)に変換\n",
        "import numpy as np\n",
        "import pandas as pd\n",
        "\n",
        "a = np.array(a_list)\n",
        "c = np.array(c_list)\n",
        "e = np.array(e_list)\n",
        "p = np.array(p_list)\n",
        "\n",
        "stack = np.stack((p,a,c,e))\n",
        "stack"
      ],
      "metadata": {
        "colab": {
          "base_uri": "https://localhost:8080/"
        },
        "collapsed": true,
        "id": "P2vpq0CqDKHB",
        "outputId": "27e59f6f-e8f7-47d2-ebce-8b339d86e9f5"
      },
      "execution_count": null,
      "outputs": [
        {
          "output_type": "execute_result",
          "data": {
            "text/plain": [
              "array([[1, 2, 3, 4, 5, 6, 7, 8, 9, 10, 11, 12, 13, 14, 15, 16, 17, 18,\n",
              "        19, 20, 21, 22, 23, 24, 25, 26, 27, 28, 29, 30, 31, 32, 33, 34,\n",
              "        35, 36, 37, 38, 39, 40],\n",
              "       [datetime.datetime(2025, 1, 20, 0, 0),\n",
              "        datetime.datetime(2025, 4, 20, 0, 0),\n",
              "        datetime.datetime(2025, 7, 20, 0, 0),\n",
              "        datetime.datetime(2025, 10, 20, 0, 0),\n",
              "        datetime.datetime(2026, 1, 20, 0, 0),\n",
              "        datetime.datetime(2026, 4, 20, 0, 0),\n",
              "        datetime.datetime(2026, 7, 20, 0, 0),\n",
              "        datetime.datetime(2026, 10, 20, 0, 0),\n",
              "        datetime.datetime(2027, 1, 20, 0, 0),\n",
              "        datetime.datetime(2027, 4, 20, 0, 0),\n",
              "        datetime.datetime(2027, 7, 20, 0, 0),\n",
              "        datetime.datetime(2027, 10, 20, 0, 0),\n",
              "        datetime.datetime(2028, 1, 20, 0, 0),\n",
              "        datetime.datetime(2028, 4, 20, 0, 0),\n",
              "        datetime.datetime(2028, 7, 20, 0, 0),\n",
              "        datetime.datetime(2028, 10, 20, 0, 0),\n",
              "        datetime.datetime(2029, 1, 20, 0, 0),\n",
              "        datetime.datetime(2029, 4, 20, 0, 0),\n",
              "        datetime.datetime(2029, 7, 20, 0, 0),\n",
              "        datetime.datetime(2029, 10, 20, 0, 0),\n",
              "        datetime.datetime(2030, 1, 20, 0, 0),\n",
              "        datetime.datetime(2030, 4, 20, 0, 0),\n",
              "        datetime.datetime(2030, 7, 20, 0, 0),\n",
              "        datetime.datetime(2030, 10, 20, 0, 0),\n",
              "        datetime.datetime(2031, 1, 20, 0, 0),\n",
              "        datetime.datetime(2031, 4, 20, 0, 0),\n",
              "        datetime.datetime(2031, 7, 20, 0, 0),\n",
              "        datetime.datetime(2031, 10, 20, 0, 0),\n",
              "        datetime.datetime(2032, 1, 20, 0, 0),\n",
              "        datetime.datetime(2032, 4, 20, 0, 0),\n",
              "        datetime.datetime(2032, 7, 20, 0, 0),\n",
              "        datetime.datetime(2032, 10, 20, 0, 0),\n",
              "        datetime.datetime(2033, 1, 20, 0, 0),\n",
              "        datetime.datetime(2033, 4, 20, 0, 0),\n",
              "        datetime.datetime(2033, 7, 20, 0, 0),\n",
              "        datetime.datetime(2033, 10, 20, 0, 0),\n",
              "        datetime.datetime(2034, 1, 20, 0, 0),\n",
              "        datetime.datetime(2034, 4, 20, 0, 0),\n",
              "        datetime.datetime(2034, 7, 20, 0, 0),\n",
              "        datetime.datetime(2034, 10, 20, 0, 0)],\n",
              "       [975000.0, 950000.0, 925000.0, 900000.0, 875000.0, 850000.0,\n",
              "        825000.0, 800000.0, 775000.0, 750000.0, 725000.0, 700000.0,\n",
              "        675000.0, 650000.0, 625000.0, 600000.0, 575000.0, 550000.0,\n",
              "        525000.0, 500000.0, 475000.0, 450000.0, 425000.0, 400000.0,\n",
              "        375000.0, 350000.0, 325000.0, 300000.0, 275000.0, 250000.0,\n",
              "        225000.0, 200000.0, 175000.0, 150000.0, 125000.0, 100000.0,\n",
              "        75000.0, 50000.0, 25000.0, 0.0],\n",
              "       [15000.0, 14625.0, 14250.0, 13875.0, 13500.0, 13125.0, 12750.0,\n",
              "        12375.0, 12000.0, 11625.0, 11250.0, 10875.0, 10500.0, 10125.0,\n",
              "        9750.0, 9375.0, 9000.0, 8625.0, 8250.0, 7875.0, 7500.0, 7125.0,\n",
              "        6750.0, 6375.0, 6000.0, 5625.0, 5250.0, 4875.0, 4500.0, 4125.0,\n",
              "        3750.0, 3375.0, 3000.0, 2625.0, 2250.0, 1875.0, 1500.0, 1125.0,\n",
              "        750.0, 375.0]], dtype=object)"
            ]
          },
          "metadata": {},
          "execution_count": 16
        }
      ]
    },
    {
      "cell_type": "code",
      "source": [
        "stack[1,0]"
      ],
      "metadata": {
        "colab": {
          "base_uri": "https://localhost:8080/"
        },
        "id": "72mBjwuSTeqe",
        "outputId": "8cbffddc-ac17-4327-f3ab-38dca1912441"
      },
      "execution_count": null,
      "outputs": [
        {
          "output_type": "execute_result",
          "data": {
            "text/plain": [
              "datetime.datetime(2025, 1, 20, 0, 0)"
            ]
          },
          "metadata": {},
          "execution_count": 25
        }
      ]
    },
    {
      "cell_type": "code",
      "source": [
        "#金利支払い、支払い合計の計算\n",
        "a = sum(e_list)\n",
        "\n",
        "a"
      ],
      "metadata": {
        "colab": {
          "base_uri": "https://localhost:8080/"
        },
        "id": "r0AqHEbJHx25",
        "outputId": "584f72d6-ffb1-4105-cb97-3864fd8295a9"
      },
      "execution_count": null,
      "outputs": [
        {
          "output_type": "execute_result",
          "data": {
            "text/plain": [
              "307500.0"
            ]
          },
          "metadata": {},
          "execution_count": 17
        }
      ]
    }
  ]
}